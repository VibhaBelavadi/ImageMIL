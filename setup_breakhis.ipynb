{
 "cells": [
  {
   "cell_type": "code",
   "execution_count": 45,
   "metadata": {},
   "outputs": [],
   "source": [
    "#setup_breakhis.py and run_mi_classify.py file in jupyter notebook\n",
    "#made this change to understand the putput files required to run the program "
   ]
  },
  {
   "cell_type": "code",
   "execution_count": 44,
   "metadata": {},
   "outputs": [],
   "source": [
    "import sys\n",
    "import os\n",
    "from glob import glob\n",
    "import numpy as np\n",
    "import sklearn.model_selection\n",
    "import sklearn.metrics"
   ]
  },
  {
   "cell_type": "code",
   "execution_count": 46,
   "metadata": {},
   "outputs": [],
   "source": [
    "import util\n",
    "from linear_classifier import LinearClassifier\n",
    "from sil import SIL"
   ]
  },
  {
   "cell_type": "code",
   "execution_count": 5,
   "metadata": {},
   "outputs": [],
   "source": [
    "def create_folds_file(file_name = 'folds1.txt', fold = '1'):\n",
    "\n",
    "    column_names = ''\n",
    "    file_handle = open(file_name,\"w+\")\n",
    "\n",
    "    with open('BreaKHis_v1/Folds.csv') as csv_file:\n",
    "        csv_reader = csv.reader(csv_file, delimiter=',')\n",
    "        line_count = 0\n",
    "        for row in csv_reader:\n",
    "            fold_row = row[0]\n",
    "            column_names = \",\".join(row)\n",
    "            if fold_row == 'fold' or fold_row == fold:\n",
    "                file_handle.write(column_names)\n",
    "                file_handle.write(\"\\n\")\n",
    "\n",
    "    file_handle.close()"
   ]
  },
  {
   "cell_type": "code",
   "execution_count": 6,
   "metadata": {},
   "outputs": [],
   "source": [
    "create_folds_file(file_name = 'folds1.txt', fold = '1')\n",
    "create_folds_file(file_name = 'folds2.txt', fold = '2')\n",
    "create_folds_file(file_name = 'folds3.txt', fold = '3')\n",
    "create_folds_file(file_name = 'folds4.txt', fold = '4')\n",
    "create_folds_file(file_name = 'folds5.txt', fold = '5')"
   ]
  },
  {
   "cell_type": "code",
   "execution_count": 40,
   "metadata": {},
   "outputs": [
    {
     "name": "stdout",
     "output_type": "stream",
     "text": [
      "True\n"
     ]
    }
   ],
   "source": [
    "#!python setup_breakhis.py -i BreaKHis_v1/ -o BreaKHis200/ --mag 200\n",
    "\n",
    "root_dir = './BreaKHis_v1/histology_slides/breast'\n",
    "srcfiles = {'DC': 'malignant/SOB/ductal_carcinoma/%s/%sX/%s',\n",
    "                'LC': 'malignant/SOB/lobular_carcinoma/%s/%sX/%s',\n",
    "                'MC': 'malignant/SOB/mucinous_carcinoma/%s/%sX/%s',\n",
    "                'PC': 'malignant/SOB/papillary_carcinoma/%s/%sX/%s',\n",
    "                'A': 'benign/SOB/adenosis/%s/%sX/%s',\n",
    "                'F': 'benign/SOB/fibroadenoma/%s/%sX/%s',\n",
    "                'PT': 'benign/SOB/phyllodes_tumor/%s/%sX/%s',\n",
    "                'TA': 'benign/SOB/tubular_adenoma/%s/%sX/%s'}\n",
    "sub_dir = 'histology_slides/breast/'\n",
    "src_dir = os.path.join(os.getcwd(), 'BreaKHis_v1/')\n",
    "print(os.path.exists(src_dir))\n",
    "out_dir = os.path.join(os.getcwd(), 'BreaKHis200/')\n",
    "if not os.path.exists(out_dir):\n",
    "    print('Creating '+out_dir)\n",
    "    os.makedirs(out_dir)\n",
    "magnification = '200'"
   ]
  },
  {
   "cell_type": "code",
   "execution_count": 36,
   "metadata": {},
   "outputs": [
    {
     "name": "stdout",
     "output_type": "stream",
     "text": [
      "Creating /home/vibha/Documents/Research/project2/ImageMIL/BreaKHis200/fold0.txt\n",
      "Creating /home/vibha/Documents/Research/project2/ImageMIL/BreaKHis200/fold1.txt\n",
      "Creating /home/vibha/Documents/Research/project2/ImageMIL/BreaKHis200/fold2.txt\n",
      "Creating /home/vibha/Documents/Research/project2/ImageMIL/BreaKHis200/fold3.txt\n",
      "Creating /home/vibha/Documents/Research/project2/ImageMIL/BreaKHis200/fold4.txt\n"
     ]
    }
   ],
   "source": [
    "for nfold in range(5):\n",
    "    \n",
    "    db = open(src_dir+'dsfold%s.txt' % (nfold+1))\n",
    "    print( 'Creating ' + out_dir + 'fold%s.txt' % nfold )\n",
    "    fd_fold = open( out_dir + 'fold%s.txt' % nfold, 'w' )\n",
    "    line_count = 0\n",
    "    \n",
    "    for row in db.readlines():\n",
    "        columns = row.split(',')\n",
    "        if line_count == 0:\n",
    "            line_count += 1\n",
    "        else:\n",
    "            imgname = columns[3]\n",
    "            mag = columns[1]  # 40, 100, 200, or 400\n",
    "            grp = columns[2].strip()  # train or test\n",
    "            #print(grp)\n",
    "\n",
    "            s = imgname.split('-')\n",
    "            name = s[0] + '-' + s[1] + '-' + s[2] + '-' + s[4].split('.')[0]\n",
    "            #print(name)\n",
    "\n",
    "            if mag != '200':\n",
    "                continue\n",
    "\n",
    "            if grp == 'train':\n",
    "                #print(grp)\n",
    "                fd_fold.write(name+',train\\n')\n",
    "            else:\n",
    "                fd_fold.write(name+',test\\n')\n",
    "\n",
    "            #print(columns)\n",
    "            #break\n",
    "    \n",
    "    fd_fold.close()\n",
    "    \n",
    "    db.close()"
   ]
  },
  {
   "cell_type": "code",
   "execution_count": 41,
   "metadata": {},
   "outputs": [
    {
     "name": "stdout",
     "output_type": "stream",
     "text": [
      "Creating /home/vibha/Documents/Research/project2/ImageMIL/BreaKHis200/sample_images.csv\n"
     ]
    }
   ],
   "source": [
    "print('Creating '+out_dir + 'sample_images.csv')\n",
    "fd_images = open( out_dir + 'sample_images.csv', 'w' )\n",
    "    \n",
    "for k,v in srcfiles.items():\n",
    "    for fn in glob( src_dir + sub_dir+ v.replace('%sX',magnification+'X').replace('%s','*') + '.png' ):\n",
    "        imgname = fn.split('/')[-1]\n",
    "        s = imgname.split('-')\n",
    "        name = s[0] + '-' + s[1] + '-' + s[2] + '-' + s[4].split('.')[0]\n",
    "        tumor_type = imgname.split('-')[0].split('_')[-1]\n",
    "\n",
    "        fn = fn[fn.find(src_dir)+len(src_dir):]\n",
    "        fn = fn[fn.find(sub_dir)+len(sub_dir):]\n",
    "\n",
    "        fd_images.write( name+','+fn+'\\n' )\n",
    "\n",
    "fd_images.close()"
   ]
  },
  {
   "cell_type": "code",
   "execution_count": 42,
   "metadata": {},
   "outputs": [
    {
     "name": "stdout",
     "output_type": "stream",
     "text": [
      "Creating /home/vibha/Documents/Research/project2/ImageMIL/BreaKHis200/labels.csv\n"
     ]
    }
   ],
   "source": [
    "print('Creating '+out_dir + 'labels.csv')\n",
    "fd_class = open( out_dir + 'labels.csv', 'w' )\n",
    "fd_class.write( 'sample,tumor,tumor_type,benign_type,malignant_type\\n' )\n",
    "    \n",
    "for k,v in srcfiles.items():\n",
    "    for fn in glob( src_dir + sub_dir+ v.replace('%sX',magnification+'X').replace('%s','*') + '.png' ):\n",
    "        imgname = fn.split('/')[-1]\n",
    "        s = imgname.split('-')\n",
    "        name = s[0] + '-' + s[1] + '-' + s[2] + '-' + s[4].split('.')[0]\n",
    "        tumor_type = imgname.split('-')[0].split('_')[-1]\n",
    "\n",
    "        if 'malignant' in fn:\n",
    "            tumor = 'M'\n",
    "            benign_type = ''\n",
    "            malignant_type = tumor_type\n",
    "        else:\n",
    "            tumor = 'B'\n",
    "            benign_type = tumor_type\n",
    "            malignant_type = ''\n",
    "        fd_class.write( '%s,%s,%s,%s,%s\\n' % ( name, tumor, tumor_type, benign_type, malignant_type ) )\n",
    "\n",
    "fd_class.close()"
   ]
  },
  {
   "cell_type": "code",
   "execution_count": null,
   "metadata": {},
   "outputs": [],
   "source": []
  }
 ],
 "metadata": {
  "kernelspec": {
   "display_name": "Python 3",
   "language": "python",
   "name": "python3"
  },
  "language_info": {
   "codemirror_mode": {
    "name": "ipython",
    "version": 3
   },
   "file_extension": ".py",
   "mimetype": "text/x-python",
   "name": "python",
   "nbconvert_exporter": "python",
   "pygments_lexer": "ipython3",
   "version": "3.7.6"
  }
 },
 "nbformat": 4,
 "nbformat_minor": 4
}
